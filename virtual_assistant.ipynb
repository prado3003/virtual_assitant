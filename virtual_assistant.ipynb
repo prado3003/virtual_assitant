{
  "nbformat": 4,
  "nbformat_minor": 0,
  "metadata": {
    "colab": {
      "provenance": [],
      "authorship_tag": "ABX9TyPgMCOKphqtUBQhohwgI4xW",
      "include_colab_link": true
    },
    "kernelspec": {
      "name": "python3",
      "display_name": "Python 3"
    },
    "language_info": {
      "name": "python"
    }
  },
  "cells": [
    {
      "cell_type": "markdown",
      "metadata": {
        "id": "view-in-github",
        "colab_type": "text"
      },
      "source": [
        "<a href=\"https://colab.research.google.com/github/prado3003/virtual_assitant/blob/main/virtual_assistant.ipynb\" target=\"_parent\"><img src=\"https://colab.research.google.com/assets/colab-badge.svg\" alt=\"Open In Colab\"/></a>"
      ]
    },
    {
      "cell_type": "code",
      "source": [
        "!pip install gTTS SpeechRecognition pydub\n",
        "!apt-get install -y ffmpeg\n"
      ],
      "metadata": {
        "id": "C-PJXM2Bguq0"
      },
      "execution_count": null,
      "outputs": []
    },
    {
      "cell_type": "code",
      "execution_count": null,
      "metadata": {
        "id": "jg9EwSiQgl6M"
      },
      "outputs": [],
      "source": [
        "import re\n",
        "from gtts import gTTS\n",
        "from google.colab import output\n",
        "from IPython.display import Audio, display, HTML\n",
        "from base64 import b64decode\n",
        "from pydub import AudioSegment\n",
        "import speech_recognition as sr\n",
        "\n",
        "def assistente_colab(duration=5):\n",
        "    # injeta JS p/ capturar áudio no navegador\n",
        "    to_js = f\"\"\"\n",
        "    async function record(duration) {{\n",
        "      const stream = await navigator.mediaDevices.getUserMedia({{ audio: true }});\n",
        "      const recorder = new MediaRecorder(stream);\n",
        "      let data = [];\n",
        "      recorder.ondataavailable = e => data.push(e.data);\n",
        "      recorder.start();\n",
        "      await new Promise(r => setTimeout(r, duration * 1000));\n",
        "      recorder.stop();\n",
        "      await new Promise(r => recorder.onstop = r);\n",
        "      let blob = new Blob(data, {{ type: 'audio/webm' }});\n",
        "      let arrayBuffer = await blob.arrayBuffer();\n",
        "      let base64 = btoa(String.fromCharCode(...new Uint8Array(arrayBuffer)));\n",
        "      return base64;\n",
        "    }}\n",
        "    record({duration});\n",
        "    \"\"\"\n",
        "    print(f\"🎤 Gravando {duration} segundos... fale agora!\")\n",
        "    audio_bytes = output.eval_js(to_js)\n",
        "\n",
        "    # converte WebM -> WAV válido\n",
        "    with open(\"temp.webm\", \"wb\") as f:\n",
        "        f.write(b64decode(audio_bytes))\n",
        "    audio = AudioSegment.from_file(\"temp.webm\", format=\"webm\")\n",
        "    audio = audio.set_channels(1).set_frame_rate(16000)\n",
        "    audio.export(\"input.wav\", format=\"wav\")\n",
        "\n",
        "    # transcreve áudio\n",
        "    recognizer = sr.Recognizer()\n",
        "    with sr.AudioFile(\"input.wav\") as source:\n",
        "        audio_data = recognizer.record(source)\n",
        "        try:\n",
        "            texto = recognizer.recognize_google(audio_data, language=\"pt-BR\")\n",
        "            print(\"📝 Você disse:\", texto)\n",
        "        except sr.UnknownValueError:\n",
        "            texto = \"\"\n",
        "            print(\"😕 Não entendi o que você falou.\")\n",
        "        except sr.RequestError as e:\n",
        "            texto = \"\"\n",
        "            print(\"❌ Erro no serviço de reconhecimento:\", e)\n",
        "\n",
        "    # resposta baseada no comando\n",
        "    link = None\n",
        "    texto_lower = texto.lower()\n",
        "    if \"wikipedia\" in texto_lower:\n",
        "        resposta = \"Ok, vou abrir o Wikipedia para você.\"\n",
        "        link = \"https://pt.wikipedia.org\"\n",
        "    elif \"youtube\" in texto_lower:\n",
        "        resposta = \"Beleza, abrindo o YouTube agora.\"\n",
        "        link = \"https://www.youtube.com\"\n",
        "    elif \"farmácia\" in texto_lower:\n",
        "        resposta = \"Aqui está a farmácia mais próxima que encontrei no Google Maps.\"\n",
        "        link = \"https://www.google.com/maps/search/farmácia+perto+de+mim\"\n",
        "    else:\n",
        "        resposta = \"Comando não reconhecido.\"\n",
        "\n",
        "    # exibe resposta e link clicável (se existir)\n",
        "    if link:\n",
        "        display(HTML(f'<a href=\"{link}\" target=\"_blank\">🔗 Abrir link</a>'))\n",
        "\n",
        "    # fala resposta\n",
        "    tts = gTTS(resposta, lang=\"pt\")\n",
        "    tts.save(\"resposta.mp3\")\n",
        "    display(Audio(\"resposta.mp3\", autoplay=True))\n"
      ]
    },
    {
      "cell_type": "code",
      "source": [
        "assistente_colab(5)  # grava 5 segundos\n"
      ],
      "metadata": {
        "id": "bffR1B-5hA4G"
      },
      "execution_count": null,
      "outputs": []
    }
  ]
}